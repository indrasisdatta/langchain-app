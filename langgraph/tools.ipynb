{
 "cells": [
  {
   "cell_type": "code",
   "execution_count": 1,
   "id": "78935b2b",
   "metadata": {},
   "outputs": [],
   "source": [
    "from typing import Annotated \n",
    "from typing_extensions import TypedDict"
   ]
  },
  {
   "cell_type": "code",
   "execution_count": 2,
   "id": "3f260069",
   "metadata": {},
   "outputs": [],
   "source": [
    "from langchain_community.utilities import ArxivAPIWrapper, WikipediaAPIWrapper \n",
    "from langchain_community.tools import ArxivQueryRun, WikipediaQueryRun \n",
    "\n",
    "# Arxiv and Wikipedia tools \n",
    "arxiv_wrapper = ArxivAPIWrapper(top_k_results=1, doc_content_chars_max=300)   \n",
    "arxiv_tool = ArxivQueryRun(api_wrapper=arxiv_wrapper)\n",
    "\n",
    "wikipedia_wrapper = WikipediaAPIWrapper(top_k_results=1, doc_content_chars_max=300)\n",
    "wiki_tool= WikipediaQueryRun(api_wrapper=wikipedia_wrapper)"
   ]
  },
  {
   "cell_type": "code",
   "execution_count": 3,
   "id": "5a30d85f",
   "metadata": {},
   "outputs": [
    {
     "data": {
      "text/plain": [
       "\"Page: 2024 Men's T20 World Cup\\nSummary: The 2024 ICC Men's T20 World Cup was the ninth edition of the ICC Men's T20 World Cup, co-hosted by Cricket West Indies and USA Cricket from 1 to 29 June 2024. It was the first major ICC tournament to include matches played in the United States. The West Indie\""
      ]
     },
     "execution_count": 3,
     "metadata": {},
     "output_type": "execute_result"
    }
   ],
   "source": [
    "wiki_tool.invoke(\"Who won the cricket world cup 2024?\")"
   ]
  },
  {
   "cell_type": "code",
   "execution_count": 4,
   "id": "3f7beeb4",
   "metadata": {},
   "outputs": [
    {
     "data": {
      "text/plain": [
       "\"Published: 2024-07-22\\nTitle: Attention Is All You Need But You Don't Need All Of It For Inference of Large Language Models\\nAuthors: Georgy Tyukin, Gbetondji J-S Dovonon, Jean Kaddour, Pasquale Minervini\\nSummary: The inference demand for LLMs has skyrocketed in recent months, and serving\\nmodels with \""
      ]
     },
     "execution_count": 4,
     "metadata": {},
     "output_type": "execute_result"
    }
   ],
   "source": [
    "arxiv_tool.invoke(\"Attention is all you need\")"
   ]
  },
  {
   "cell_type": "code",
   "execution_count": 5,
   "id": "698f6ba9",
   "metadata": {},
   "outputs": [],
   "source": [
    "tools = [wiki_tool]"
   ]
  },
  {
   "cell_type": "code",
   "execution_count": 6,
   "id": "d13fed1f",
   "metadata": {},
   "outputs": [],
   "source": [
    "from langgraph.graph.message import add_messages\n",
    "\n",
    "class State(TypedDict):\n",
    "    messages: Annotated[list, add_messages]"
   ]
  },
  {
   "cell_type": "code",
   "execution_count": 8,
   "id": "5f887262",
   "metadata": {},
   "outputs": [],
   "source": [
    "from langgraph.graph import StateGraph, START, END"
   ]
  },
  {
   "cell_type": "code",
   "execution_count": 9,
   "id": "729e131c",
   "metadata": {},
   "outputs": [],
   "source": [
    "graph_builder = StateGraph(State)"
   ]
  },
  {
   "cell_type": "code",
   "execution_count": 10,
   "id": "ae48ac2d",
   "metadata": {},
   "outputs": [],
   "source": [
    "from langchain_groq import ChatGroq"
   ]
  },
  {
   "cell_type": "code",
   "execution_count": 11,
   "id": "2485df5f",
   "metadata": {},
   "outputs": [],
   "source": [
    "import os\n",
    "llm = ChatGroq(groq_api_key=os.getenv(\"GROQ_API_KEY\"), model=\"gemma2-9b-it\")"
   ]
  },
  {
   "cell_type": "code",
   "execution_count": 12,
   "id": "a2f50af7",
   "metadata": {},
   "outputs": [],
   "source": [
    "llm_with_tools = llm.bind_tools(tools)"
   ]
  },
  {
   "cell_type": "code",
   "execution_count": 13,
   "id": "9ad0b693",
   "metadata": {},
   "outputs": [],
   "source": [
    "def chatbot(state: State):\n",
    "    return {\n",
    "        \"messages\": [llm_with_tools.invoke(state[\"messages\"])]\n",
    "    }"
   ]
  },
  {
   "cell_type": "code",
   "execution_count": 15,
   "id": "9dce4f68",
   "metadata": {},
   "outputs": [],
   "source": [
    "from langgraph.prebuilt import ToolNode, tools_condition "
   ]
  },
  {
   "cell_type": "code",
   "execution_count": 16,
   "id": "a7e0e7ba",
   "metadata": {},
   "outputs": [
    {
     "data": {
      "text/plain": [
       "<langgraph.graph.state.StateGraph at 0x1eeab16fe50>"
      ]
     },
     "execution_count": 16,
     "metadata": {},
     "output_type": "execute_result"
    }
   ],
   "source": [
    "graph_builder.add_node(\"chatbot\", chatbot)\n",
    "graph_builder.add_edge(START, \"chatbot\")\n",
    "\n",
    "tool_node = ToolNode(tools=tools)\n",
    "\n",
    "graph_builder.add_node(\"tools\", tool_node)\n",
    "\n",
    "\n",
    "graph_builder.add_conditional_edges(\n",
    "    \"chatbot\",\n",
    "    tools_condition\n",
    ")\n",
    "graph_builder.add_edge(\"tools\", \"chatbot\")\n",
    "graph_builder.add_edge(\"chatbot\", END)"
   ]
  },
  {
   "cell_type": "code",
   "execution_count": 18,
   "id": "cf053d8a",
   "metadata": {},
   "outputs": [],
   "source": [
    "graph = graph_builder.compile()"
   ]
  },
  {
   "cell_type": "code",
   "execution_count": null,
   "id": "9c7b5b7b",
   "metadata": {},
   "outputs": [
    {
     "name": "stdout",
     "output_type": "stream",
     "text": [
      "{'chatbot': {'messages': [AIMessage(content='', additional_kwargs={'tool_calls': [{'id': 'm83adzdwt', 'function': {'arguments': '{\"query\":\"What is the capital of France?\"}', 'name': 'wikipedia'}, 'type': 'function'}]}, response_metadata={'token_usage': {'completion_tokens': 85, 'prompt_tokens': 987, 'total_tokens': 1072, 'completion_time': 0.154545455, 'prompt_time': 0.042045839, 'queue_time': 0.248960302, 'total_time': 0.196591294}, 'model_name': 'gemma2-9b-it', 'system_fingerprint': 'fp_10c08bf97d', 'finish_reason': 'tool_calls', 'logprobs': None}, id='run--d32486ef-baac-466b-a4a4-41eda94062a2-0', tool_calls=[{'name': 'wikipedia', 'args': {'query': 'What is the capital of France?'}, 'id': 'm83adzdwt', 'type': 'tool_call'}], usage_metadata={'input_tokens': 987, 'output_tokens': 85, 'total_tokens': 1072})]}}\n",
      "{'tools': {'messages': [ToolMessage(content='Page: Closed-ended question\\nSummary: A closed-ended question is any question for which a researcher provides research participants with options from which to choose a response. Closed-ended questions are sometimes phrased as a statement that requires a response.\\nA closed-ended question contrasts wit', name='wikipedia', id='4f5e1e29-e82c-4af4-935d-9bbda52a81a1', tool_call_id='m83adzdwt')]}}\n",
      "{'chatbot': {'messages': [AIMessage(content='', additional_kwargs={'tool_calls': [{'id': 'j63xjd72s', 'function': {'arguments': '{\"query\":\"What is the capital of France?\"}', 'name': 'wikipedia'}, 'type': 'function'}]}, response_metadata={'token_usage': {'completion_tokens': 45, 'prompt_tokens': 1119, 'total_tokens': 1164, 'completion_time': 0.081818182, 'prompt_time': 0.063799434, 'queue_time': 0.24939750100000002, 'total_time': 0.145617616}, 'model_name': 'gemma2-9b-it', 'system_fingerprint': 'fp_10c08bf97d', 'finish_reason': 'tool_calls', 'logprobs': None}, id='run--d7f0bd0c-43d8-4fd6-abea-8ed369b25164-0', tool_calls=[{'name': 'wikipedia', 'args': {'query': 'What is the capital of France?'}, 'id': 'j63xjd72s', 'type': 'tool_call'}], usage_metadata={'input_tokens': 1119, 'output_tokens': 45, 'total_tokens': 1164})]}}\n",
      "{'tools': {'messages': [ToolMessage(content='Page: Closed-ended question\\nSummary: A closed-ended question is any question for which a researcher provides research participants with options from which to choose a response. Closed-ended questions are sometimes phrased as a statement that requires a response.\\nA closed-ended question contrasts wit', name='wikipedia', id='9cb3afd7-5821-4939-9582-82e7d61bc560', tool_call_id='j63xjd72s')]}}\n",
      "{'chatbot': {'messages': [AIMessage(content='Paris', additional_kwargs={}, response_metadata={'token_usage': {'completion_tokens': 3, 'prompt_tokens': 1255, 'total_tokens': 1258, 'completion_time': 0.005454545, 'prompt_time': 0.043606107, 'queue_time': 0.25011184399999997, 'total_time': 0.049060652}, 'model_name': 'gemma2-9b-it', 'system_fingerprint': 'fp_10c08bf97d', 'finish_reason': 'stop', 'logprobs': None}, id='run--96d33334-d21f-402e-b659-f694895fa954-0', usage_metadata={'input_tokens': 1255, 'output_tokens': 3, 'total_tokens': 1258})]}}\n"
     ]
    }
   ],
   "source": [
    "user_input = \"Hi, I need help with some answers\"\n",
    "\n",
    "events = graph.stream({\n",
    "    \"messages\": {\n",
    "        \"role\": \"user\",\n",
    "        \"content\": user_input\n",
    "    }\n",
    "})\n",
    "\n",
    "for event in events:\n",
    "    print(event.values())\n",
    "    # event[\"messages\"][\"content\"][-1].pretty_print()"
   ]
  }
 ],
 "metadata": {
  "kernelspec": {
   "display_name": "Python 3",
   "language": "python",
   "name": "python3"
  },
  "language_info": {
   "codemirror_mode": {
    "name": "ipython",
    "version": 3
   },
   "file_extension": ".py",
   "mimetype": "text/x-python",
   "name": "python",
   "nbconvert_exporter": "python",
   "pygments_lexer": "ipython3",
   "version": "3.10.16"
  }
 },
 "nbformat": 4,
 "nbformat_minor": 5
}
