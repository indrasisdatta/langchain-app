{
 "cells": [
  {
   "cell_type": "code",
   "execution_count": 1,
   "id": "06810adb",
   "metadata": {},
   "outputs": [],
   "source": [
    "from langchain_community.embeddings import OllamaEmbeddings"
   ]
  },
  {
   "cell_type": "code",
   "execution_count": 2,
   "id": "b8279f63",
   "metadata": {},
   "outputs": [
    {
     "name": "stderr",
     "output_type": "stream",
     "text": [
      "C:\\Users\\indra\\AppData\\Local\\Temp\\ipykernel_11792\\2847729284.py:1: LangChainDeprecationWarning: The class `OllamaEmbeddings` was deprecated in LangChain 0.3.1 and will be removed in 1.0.0. An updated version of the class exists in the :class:`~langchain-ollama package and should be used instead. To use it run `pip install -U :class:`~langchain-ollama` and import as `from :class:`~langchain_ollama import OllamaEmbeddings``.\n",
      "  embeddings = (OllamaEmbeddings(model=\"nomic-embed-text\"))\n"
     ]
    }
   ],
   "source": [
    "embeddings = (OllamaEmbeddings(model=\"nomic-embed-text\"))"
   ]
  },
  {
   "cell_type": "code",
   "execution_count": 3,
   "id": "01a9c77d",
   "metadata": {},
   "outputs": [],
   "source": [
    "r1 = embeddings.embed_documents([\n",
    "    \"Alpha is the first letter of Greek alphabet\",\n",
    "    \"Beta is the second letter of Greek alphabet\"\n",
    "])"
   ]
  },
  {
   "cell_type": "code",
   "execution_count": null,
   "id": "5c57ffb5",
   "metadata": {},
   "outputs": [],
   "source": [
    "embeddings.embed_query(\"What is the first letter of Greek alphabet?\")"
   ]
  }
 ],
 "metadata": {
  "kernelspec": {
   "display_name": "Python 3",
   "language": "python",
   "name": "python3"
  },
  "language_info": {
   "codemirror_mode": {
    "name": "ipython",
    "version": 3
   },
   "file_extension": ".py",
   "mimetype": "text/x-python",
   "name": "python",
   "nbconvert_exporter": "python",
   "pygments_lexer": "ipython3",
   "version": "3.10.16"
  }
 },
 "nbformat": 4,
 "nbformat_minor": 5
}
